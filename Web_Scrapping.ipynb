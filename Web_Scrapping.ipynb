{
  "nbformat": 4,
  "nbformat_minor": 0,
  "metadata": {
    "colab": {
      "provenance": [],
      "authorship_tag": "ABX9TyOFi/xCG3+qzesfxuVMjMlN",
      "include_colab_link": true
    },
    "kernelspec": {
      "name": "python3",
      "display_name": "Python 3"
    },
    "language_info": {
      "name": "python"
    }
  },
  "cells": [
    {
      "cell_type": "markdown",
      "metadata": {
        "id": "view-in-github",
        "colab_type": "text"
      },
      "source": [
        "<a href=\"https://colab.research.google.com/github/archanaanbalagan11/CodeAlpha-Projects/blob/main/Web_Scrapping.ipynb\" target=\"_parent\"><img src=\"https://colab.research.google.com/assets/colab-badge.svg\" alt=\"Open In Colab\"/></a>"
      ]
    },
    {
      "cell_type": "code",
      "execution_count": null,
      "metadata": {
        "id": "EjaSU6eFyE-G"
      },
      "outputs": [],
      "source": [
        "from bs4 import BeautifulSoup\n",
        "import requests"
      ]
    },
    {
      "cell_type": "code",
      "source": [
        "url=\"https://en.wikipedia.org/wiki/List_of_largest_companies_in_the_United_States_by_revenue\"\n",
        "page=requests.get(url)\n",
        "soup=BeautifulSoup(page.text,'html')"
      ],
      "metadata": {
        "id": "Te-31H39yUFX"
      },
      "execution_count": null,
      "outputs": []
    },
    {
      "cell_type": "code",
      "source": [
        "print(soup)"
      ],
      "metadata": {
        "id": "PgCfcgepyybt"
      },
      "execution_count": null,
      "outputs": []
    },
    {
      "cell_type": "code",
      "source": [
        "soup.find()"
      ],
      "metadata": {
        "id": "ZXQzrsDw1XAC"
      },
      "execution_count": null,
      "outputs": []
    },
    {
      "cell_type": "code",
      "source": [
        "soup.find_all('table')"
      ],
      "metadata": {
        "id": "UOjrfijy_dKO"
      },
      "execution_count": null,
      "outputs": []
    },
    {
      "cell_type": "code",
      "source": [
        "soup.find('table',class_='wikitable sortable')"
      ],
      "metadata": {
        "id": "iv19pGTz_j5a"
      },
      "execution_count": null,
      "outputs": []
    },
    {
      "cell_type": "code",
      "source": [
        "table=soup.find_all('table')[1]"
      ],
      "metadata": {
        "id": "icLuUm-NBKSc"
      },
      "execution_count": null,
      "outputs": []
    },
    {
      "cell_type": "code",
      "source": [
        "print(table)"
      ],
      "metadata": {
        "id": "7qX-NOiHBb4w"
      },
      "execution_count": null,
      "outputs": []
    },
    {
      "cell_type": "code",
      "source": [
        "world_titles=soup.find_all('th')"
      ],
      "metadata": {
        "id": "cOQ1DOGFBfTm"
      },
      "execution_count": null,
      "outputs": []
    },
    {
      "cell_type": "code",
      "source": [
        "world_titles"
      ],
      "metadata": {
        "id": "8Ezofkm4BksQ"
      },
      "execution_count": null,
      "outputs": []
    },
    {
      "cell_type": "code",
      "source": [
        "world_table_titles=[title.text.strip() for title in world_titles]\n",
        "print(world_table_titles)"
      ],
      "metadata": {
        "id": "awOlEL5yB1xn"
      },
      "execution_count": null,
      "outputs": []
    },
    {
      "cell_type": "code",
      "source": [
        "import pandas as pd\n"
      ],
      "metadata": {
        "id": "k3JnMDPHCwrW"
      },
      "execution_count": null,
      "outputs": []
    },
    {
      "cell_type": "code",
      "source": [
        "table=soup.find_all('table')[1]\n",
        "world_titles=table.find_all('th')\n",
        "world_table_titles=[title.text.strip() for title in world_titles]\n",
        "df=pd.DataFrame(columns=world_table_titles)"
      ],
      "metadata": {
        "id": "V7qqfjcjDNFV"
      },
      "execution_count": null,
      "outputs": []
    },
    {
      "cell_type": "code",
      "source": [
        "column_data=table.find_all('tr')"
      ],
      "metadata": {
        "id": "e-03uU52DQsE"
      },
      "execution_count": null,
      "outputs": []
    },
    {
      "cell_type": "code",
      "source": [
        "for row in column_data[1:]:\n",
        "  row_data=row.find_all('td')\n",
        "  individual_row_data=[data.text.strip() for data in row_data]\n",
        "\n",
        "  length=len(df)\n",
        "  df.loc[length]=individual_row_data"
      ],
      "metadata": {
        "id": "zFoRfvClDqYq"
      },
      "execution_count": null,
      "outputs": []
    },
    {
      "cell_type": "code",
      "source": [
        "df"
      ],
      "metadata": {
        "id": "0jtn5QdmDfcW"
      },
      "execution_count": null,
      "outputs": []
    },
    {
      "cell_type": "code",
      "source": [],
      "metadata": {
        "id": "WJb6DQOEG6tp"
      },
      "execution_count": null,
      "outputs": []
    }
  ]
}